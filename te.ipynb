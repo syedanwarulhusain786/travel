{
 "cells": [
  {
   "cell_type": "code",
   "execution_count": 4,
   "metadata": {},
   "outputs": [
    {
     "name": "stdout",
     "output_type": "stream",
     "text": [
      "<Response [403]>\n",
      "https://www.statisticshowto.com/probability-and-statistics/statistics-definitions/moving-average/ does not have SSL/TLS enabled.\n"
     ]
    }
   ],
   "source": [
    "import requests\n",
    "\n",
    "def check_ssl_website(url):\n",
    "    try:\n",
    "        response = requests.get(url)\n",
    "        print(response)\n",
    "        print(response.url)\n",
    "        \n",
    "        if response.status_code == 200:\n",
    "            if response.url.startswith(\"https://\"):\n",
    "                return True  # SSL/TLS is enabled\n",
    "            else:\n",
    "                return False  # SSL/TLS is not enabled\n",
    "    except requests.exceptions.RequestException:\n",
    "        return False  # Error occurred or website is not accessible\n",
    "    \n",
    "    return False  # Default to not having SSL/TLS enabled\n",
    "\n",
    "# Example usage:\n",
    "website_url = \"https://www.statisticshowto.com/probability-and-statistics/statistics-definitions/moving-average/\"\n",
    "if check_ssl_website(website_url):\n",
    "    print(f\"{website_url} has SSL/TLS enabled.\")\n",
    "else:\n",
    "    print(f\"{website_url} does not have SSL/TLS enabled.\")\n"
   ]
  },
  {
   "cell_type": "code",
   "execution_count": null,
   "metadata": {},
   "outputs": [],
   "source": []
  }
 ],
 "metadata": {
  "kernelspec": {
   "display_name": "Python 3",
   "language": "python",
   "name": "python3"
  },
  "language_info": {
   "codemirror_mode": {
    "name": "ipython",
    "version": 3
   },
   "file_extension": ".py",
   "mimetype": "text/x-python",
   "name": "python",
   "nbconvert_exporter": "python",
   "pygments_lexer": "ipython3",
   "version": "3.10.7"
  },
  "orig_nbformat": 4
 },
 "nbformat": 4,
 "nbformat_minor": 2
}
